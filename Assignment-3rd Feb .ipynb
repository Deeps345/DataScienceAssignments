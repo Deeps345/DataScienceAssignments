{
 "cells": [
  {
   "cell_type": "code",
   "execution_count": 1,
   "id": "14af746d-fcb6-4710-9a13-1a5b8ecfb796",
   "metadata": {},
   "outputs": [
    {
     "name": "stdout",
     "output_type": "stream",
     "text": [
      "[1, 3, 5, 7, 9, 11, 13, 15, 17, 19, 21, 23, 25]\n"
     ]
    }
   ],
   "source": [
    "# Q1. Which keyword is used to create a function? Create a function to return a list of odd numbers in the\n",
    "# range of 1 to 25.\n",
    "\n",
    "'''\n",
    "def keyword is used to create a function\n",
    "It stands for definition of a function\n",
    "'''\n",
    "\n",
    "def getOddNums():\n",
    "    return [i for i in range(1,26) if i%2!=0]\n",
    "\n",
    "print(getOddNums())"
   ]
  },
  {
   "cell_type": "code",
   "execution_count": null,
   "id": "3c904c71-9b4f-4f80-8743-4e39db9c3739",
   "metadata": {},
   "outputs": [],
   "source": []
  },
  {
   "cell_type": "code",
   "execution_count": 2,
   "id": "289d5c61-0bcd-4609-9551-746a6d634b4b",
   "metadata": {},
   "outputs": [
    {
     "name": "stdout",
     "output_type": "stream",
     "text": [
      "1 2 3 Deepak [4, 5, 5] (2, 43, 4, 'pw') Key = a , Value = 10\n",
      "Key = b , Value = Deepak\n",
      "Key = l , Value = [3, 4, 5]\n",
      "Key = d , Value = {'a': 10, 'b': 30}\n"
     ]
    }
   ],
   "source": [
    "# Q2. Why *args and **kwargs is used in some functions? Create a function each for *args and **kwargs\n",
    "# to demonstrate their use.\n",
    "\n",
    "'''\n",
    "*args is used to pass a variable number of positional arguments to a function.These arguments are passed as a \n",
    "tuple and can be accessed by iterating over the tuple.\n",
    "\n",
    "**kwargs is used to pass a variable number of keyword arguments to a function.These arguments are passed as a \n",
    "dictionary and can be accessed by iterating over the dictionary.\n",
    "'''\n",
    "\n",
    "def displayPositionalArguments(*args):\n",
    "    '''Function that prints all the positional arguments'''\n",
    "    for i in args:\n",
    "        print(i,end=' ')\n",
    "        \n",
    "def displayKeywordArguments(**kwargs):\n",
    "    '''Function that prints all the keyword arguments'''\n",
    "    for k,v in kwargs.items():\n",
    "        print(f'Key = {k} , Value = {v}')\n",
    "       \n",
    "displayPositionalArguments(1,2,3,'Deepak',[4,5,5],(2,43,4,'pw'))\n",
    "\n",
    "displayKeywordArguments(a=10,b='Deepak',l=[3,4,5,],d={'a':10,'b':30})"
   ]
  },
  {
   "cell_type": "code",
   "execution_count": null,
   "id": "8091084b-5eff-41ec-b219-eb7b5e9178eb",
   "metadata": {},
   "outputs": [],
   "source": []
  },
  {
   "cell_type": "code",
   "execution_count": 3,
   "id": "67484a0f-bcb9-4c76-97fd-480a9a3a9dc6",
   "metadata": {},
   "outputs": [
    {
     "name": "stdout",
     "output_type": "stream",
     "text": [
      "2\n",
      "4\n",
      "6\n",
      "8\n",
      "10\n"
     ]
    }
   ],
   "source": [
    "# Q3. What is an iterator in python? Name the method used to initialise the iterator object and the method\n",
    "# used for iteration. Use these methods to print the first five elements of the given list [2, 4, 6, 8, 10, 12, 14,\n",
    "# 16, 18, 20].\n",
    "\n",
    "'''\n",
    "An iterator is an object, which is used to iterate over an iterable object using the next() method.Technically, in Python, \n",
    "an iterator is an object which implements the iterator protocol, which consist of the methods __iter__() and __next__().\n",
    "Every iterator is also an iterable, but not every iterable is an iterator in Python.However, iterables can be converted to \n",
    "iterators\n",
    "\n",
    "iter() method is used to initialise the iterator object and next() method is used for the iteration\n",
    "'''\n",
    "\n",
    "l=[2, 4, 6, 8, 10, 12, 14,16, 18, 20]\n",
    "l1=iter(l)\n",
    "\n",
    "for i in range(5):\n",
    "    print(next(l1))"
   ]
  },
  {
   "cell_type": "code",
   "execution_count": null,
   "id": "1ccf7b63-85ee-404e-9c9a-ce7c86fce8aa",
   "metadata": {},
   "outputs": [],
   "source": []
  },
  {
   "cell_type": "code",
   "execution_count": 4,
   "id": "04a1e22a-ce87-454d-9691-732cab430f3d",
   "metadata": {},
   "outputs": [
    {
     "name": "stdout",
     "output_type": "stream",
     "text": [
      "0\n",
      "1\n",
      "1\n",
      "2\n",
      "3\n",
      "5\n",
      "8\n",
      "13\n",
      "21\n",
      "34\n"
     ]
    }
   ],
   "source": [
    "# Q4. What is a generator function in python? Why yield keyword is used? Give an example of a generator\n",
    "# function.\n",
    "\n",
    "'''\n",
    "A generator function in python is a special type of function that generates a sequence of values or objects, rather than\n",
    "returning a single value. It allows you to iterate over a large sequence of data without creating the entire sequence of\n",
    "data without creating the entire sequence in memory all at once.Instead,it generates the next value in the sequence on the\n",
    "fly as it is requested, using the 'yield' keyword. \n",
    "It is helpful because firstly there is no need to generate the entire list/sequence of values at once which would take \n",
    "a lot of time. Secondly, it helps in optimized use of memory\n",
    "\n",
    "The yield keyword is used to indicate where the generator should pause and yield a value to the caller.The yield keyword\n",
    "is used in generator functions to produce a sequence of values, allowing the function to pause and resume its execution\n",
    "as needed to produce each value in the sequence.\n",
    "'''\n",
    "\n",
    "# Example of a generator function\n",
    "def fib(n):\n",
    "    a,b=0,1\n",
    "    for i in range(n):\n",
    "        yield a\n",
    "        a,b=b,a+b\n",
    "\n",
    "for i in fib(10):\n",
    "    print(i)"
   ]
  },
  {
   "cell_type": "code",
   "execution_count": null,
   "id": "5d7abc3a-91f4-4d4b-aed1-86b83362c091",
   "metadata": {},
   "outputs": [],
   "source": []
  },
  {
   "cell_type": "code",
   "execution_count": 5,
   "id": "14001add-f93e-4927-be15-442401052aab",
   "metadata": {},
   "outputs": [
    {
     "name": "stdout",
     "output_type": "stream",
     "text": [
      "1\n",
      "2\n",
      "3\n",
      "5\n",
      "7\n",
      "11\n",
      "13\n",
      "17\n",
      "19\n",
      "23\n",
      "29\n",
      "31\n",
      "37\n",
      "41\n",
      "43\n",
      "47\n",
      "53\n",
      "59\n",
      "61\n",
      "67\n"
     ]
    }
   ],
   "source": [
    "# Q5. Create a generator function for prime numbers less than 1000. Use the next() method to print the\n",
    "# first 20 prime numbers.\n",
    "\n",
    "def isPrime(n):\n",
    "    for i in range(2,n):\n",
    "        if n%i==0:\n",
    "            return False\n",
    "    return True\n",
    "\n",
    "def getPrimes(n):\n",
    "    for num in range(1,n):\n",
    "        if isPrime(num):\n",
    "            yield num\n",
    "            \n",
    "c=getPrimes(1000)\n",
    "\n",
    "for i in range(20):\n",
    "    print(next(c))"
   ]
  },
  {
   "cell_type": "code",
   "execution_count": null,
   "id": "67b90285-4f12-4268-bebc-874aa1d71bb8",
   "metadata": {},
   "outputs": [],
   "source": []
  },
  {
   "cell_type": "code",
   "execution_count": 6,
   "id": "f8c340bd-422e-40ef-b345-13638be5a47f",
   "metadata": {},
   "outputs": [
    {
     "name": "stdout",
     "output_type": "stream",
     "text": [
      "0\n",
      "1\n",
      "1\n",
      "2\n",
      "3\n",
      "5\n",
      "8\n",
      "13\n",
      "21\n",
      "34\n"
     ]
    }
   ],
   "source": [
    "# Q6. Write a python program to print the first 10 Fibonacci numbers using a while loop.\n",
    "\n",
    "a=0\n",
    "b=1\n",
    "\n",
    "count=1\n",
    "while count<11:\n",
    "    print(a)\n",
    "    c=a+b\n",
    "    a=b\n",
    "    b=c\n",
    "    count+=1"
   ]
  },
  {
   "cell_type": "code",
   "execution_count": null,
   "id": "17be1f82-92d4-44f3-9d90-9520d8ff1f5d",
   "metadata": {},
   "outputs": [],
   "source": []
  },
  {
   "cell_type": "code",
   "execution_count": 7,
   "id": "6c89a8e6-9b77-4748-bacd-8ce8e669b219",
   "metadata": {},
   "outputs": [
    {
     "name": "stdout",
     "output_type": "stream",
     "text": [
      "['p', 'w', 's', 'k', 'i', 'l', 'l', 's']\n"
     ]
    }
   ],
   "source": [
    "# Q7. Write a List Comprehension to iterate through the given string: ‘pwskills’.\n",
    "# Expected output: ['p', 'w', 's', 'k', 'i', 'l', 'l', 's']\n",
    "\n",
    "s='pwskills'\n",
    "lst=[ch for ch in s]\n",
    "print(lst)"
   ]
  },
  {
   "cell_type": "code",
   "execution_count": null,
   "id": "f0e8aedb-5d76-4f7b-811b-43607a00bf93",
   "metadata": {},
   "outputs": [],
   "source": []
  },
  {
   "cell_type": "code",
   "execution_count": 8,
   "id": "30f60545-3845-4e84-95e1-d0cbe723fb5a",
   "metadata": {},
   "outputs": [
    {
     "name": "stdin",
     "output_type": "stream",
     "text": [
      "Enter number to check if it is a palindrome or not :  1234321\n"
     ]
    },
    {
     "name": "stdout",
     "output_type": "stream",
     "text": [
      "The given number is a palindrome\n"
     ]
    }
   ],
   "source": [
    "# Q8. Write a python program to check whether a given number is Palindrome or not using a while loop.\n",
    "\n",
    "num=input('Enter number to check if it is a palindrome or not : ')\n",
    "\n",
    "length=len(num)\n",
    "\n",
    "i=0\n",
    "while i<length/2:\n",
    "    if num[i]!=num[length-i-1]:\n",
    "        print('The given number is not a palindrome')\n",
    "        break\n",
    "    i+=1\n",
    "else:\n",
    "    print('The given number is a palindrome')"
   ]
  },
  {
   "cell_type": "code",
   "execution_count": null,
   "id": "1fe9005e-4025-43ff-9c00-cdff229f7569",
   "metadata": {},
   "outputs": [],
   "source": []
  },
  {
   "cell_type": "code",
   "execution_count": 9,
   "id": "f5b1d8fe-dcff-442a-8df6-486285edb786",
   "metadata": {},
   "outputs": [
    {
     "name": "stdout",
     "output_type": "stream",
     "text": [
      "[1, 3, 5, 7, 9, 11, 13, 15, 17, 19, 21, 23, 25, 27, 29, 31, 33, 35, 37, 39, 41, 43, 45, 47, 49, 51, 53, 55, 57, 59, 61, 63, 65, 67, 69, 71, 73, 75, 77, 79, 81, 83, 85, 87, 89, 91, 93, 95, 97, 99]\n"
     ]
    }
   ],
   "source": [
    "# Q9. Write a code to print odd numbers from 1 to 100 using list comprehension.\n",
    "# Note: Use a list comprehension to create a list from 1 to 100 and use another List comprehension to filter\n",
    "# out odd numbers.\n",
    "\n",
    "nums=[i for i in range(1,101)]\n",
    "odd_nums=[num for num in nums if num%2!=0]\n",
    "\n",
    "print(odd_nums)"
   ]
  },
  {
   "cell_type": "code",
   "execution_count": null,
   "id": "318f6b1a-9f7f-4b63-a1de-363e0074cd30",
   "metadata": {},
   "outputs": [],
   "source": []
  }
 ],
 "metadata": {
  "kernelspec": {
   "display_name": "Python 3 (ipykernel)",
   "language": "python",
   "name": "python3"
  },
  "language_info": {
   "codemirror_mode": {
    "name": "ipython",
    "version": 3
   },
   "file_extension": ".py",
   "mimetype": "text/x-python",
   "name": "python",
   "nbconvert_exporter": "python",
   "pygments_lexer": "ipython3",
   "version": "3.10.8"
  }
 },
 "nbformat": 4,
 "nbformat_minor": 5
}
