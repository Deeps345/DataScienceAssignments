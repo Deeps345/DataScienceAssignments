{
 "cells": [
  {
   "cell_type": "code",
   "execution_count": 1,
   "id": "e8f6ec0a-3323-4ecc-89d7-bce7bd4d2798",
   "metadata": {},
   "outputs": [
    {
     "name": "stdout",
     "output_type": "stream",
     "text": [
      "('i10', 120, 30)\n"
     ]
    }
   ],
   "source": [
    "# Q1, Create a vehicle class with an init method having instance variables as name_of_vehicle, max_speed\n",
    "# and average_of_vehicle.\n",
    "\n",
    "class vehicle:\n",
    "    \n",
    "    def __init__(self,name,max_speed,avg):\n",
    "        self.name=name\n",
    "        self.max_speed=max_speed\n",
    "        self.avg=avg\n",
    "        \n",
    "    def getDetails(self):\n",
    "        return self.name,self.max_speed,self.avg\n",
    "        \n",
    "i10=vehicle('i10',120,30)\n",
    "\n",
    "print(i10.getDetails())"
   ]
  },
  {
   "cell_type": "code",
   "execution_count": null,
   "id": "40d91deb-e219-493f-a6af-1ded53d1a122",
   "metadata": {},
   "outputs": [],
   "source": []
  },
  {
   "cell_type": "code",
   "execution_count": 2,
   "id": "95a22ddd-a81b-4a6f-b2fa-df2888a3cd42",
   "metadata": {},
   "outputs": [
    {
     "name": "stdout",
     "output_type": "stream",
     "text": [
      "('i10', 4)\n"
     ]
    }
   ],
   "source": [
    "# Q2. Create a child class car from the vehicle class created in Que 1, which will inherit the vehicle class.\n",
    "# Create a method named seating_capacity which takes capacity as an argument and returns the name of\n",
    "# the vehicle and its seating capacity.\n",
    "\n",
    "class vehicle:\n",
    "    \n",
    "    def __init__(self,name,max_speed,avg):\n",
    "        self.name=name\n",
    "        self.max_speed=max_speed\n",
    "        self.avg=avg\n",
    "                \n",
    "class car(vehicle):\n",
    "    \n",
    "    def seating_capacity(self,capacity):\n",
    "        return self.name,capacity\n",
    "    \n",
    "i10=car('i10',120,30)\n",
    "\n",
    "print(i10.seating_capacity(4))"
   ]
  },
  {
   "cell_type": "code",
   "execution_count": null,
   "id": "22af4185-0d7d-43d1-aa01-ef44d165744a",
   "metadata": {},
   "outputs": [],
   "source": []
  },
  {
   "cell_type": "code",
   "execution_count": 3,
   "id": "143aa2ab-f2d5-46b5-8cec-113903be2b43",
   "metadata": {},
   "outputs": [
    {
     "name": "stdout",
     "output_type": "stream",
     "text": [
      "this is parent 1\n",
      "this is parent 2\n"
     ]
    }
   ],
   "source": [
    "# Q3. What is multiple inheritance? Write a python code to demonstrate multiple inheritance.\n",
    "\n",
    "'''\n",
    "Multiple inheritance is a feature of OOPS that allows a class to inherit properites & methods \n",
    "from more than 1 parent class\n",
    "'''\n",
    "\n",
    "class parent1:\n",
    "    def test_parent1(self):\n",
    "        return 'this is parent 1'\n",
    "\n",
    "class parent2:\n",
    "    def test_parent2(self):\n",
    "        return 'this is parent 2'\n",
    "    \n",
    "class child(parent1,parent2):\n",
    "    pass\n",
    "\n",
    "\n",
    "child_obj=child()\n",
    "\n",
    "print(child_obj.test_parent1())\n",
    "print(child_obj.test_parent2())"
   ]
  },
  {
   "cell_type": "code",
   "execution_count": null,
   "id": "eac600b5-b5ac-4c10-bc08-cdf80afe587a",
   "metadata": {},
   "outputs": [],
   "source": []
  },
  {
   "cell_type": "code",
   "execution_count": 4,
   "id": "ce020886-527d-4750-9f33-7e18b0bdff6a",
   "metadata": {},
   "outputs": [
    {
     "name": "stdout",
     "output_type": "stream",
     "text": [
      "5000000\n",
      "6000000\n"
     ]
    }
   ],
   "source": [
    "# Q4. What are getter and setter in python? Create a class and create a getter and a setter method in this\n",
    "# class.\n",
    "\n",
    "'''\n",
    "Getter & setter are the methods which are used to control the access to the properties of an object in OOPS.\n",
    "Properties that are private can't be accessed outside of the class so to enable the user to set & get those\n",
    "properties,these functions are used\n",
    "\n",
    "Getter -> method used to get/retrieve the value of a private/protected variable\n",
    "\n",
    "Setter -> method used to set the value of a variable\n",
    "'''\n",
    "\n",
    "class employee:\n",
    "    \n",
    "    def __init__(self,name,eid,salary):\n",
    "        self.name=name\n",
    "        self.eid=eid\n",
    "        self.__salary=salary\n",
    "        \n",
    "    def getter_meth(self):\n",
    "        return self.__salary\n",
    "    \n",
    "    def setter_meth(self,new_salary):\n",
    "        self.__salary=new_salary\n",
    "        \n",
    "obj=employee('Deepak',123,5000000)\n",
    "\n",
    "\n",
    "print(obj.getter_meth())\n",
    "\n",
    "obj.setter_meth(6000000)\n",
    "\n",
    "print(obj.getter_meth())"
   ]
  },
  {
   "cell_type": "code",
   "execution_count": null,
   "id": "6f624e54-eeec-41b1-b86e-c182dfc551ea",
   "metadata": {},
   "outputs": [],
   "source": []
  },
  {
   "cell_type": "code",
   "execution_count": 5,
   "id": "edb42ac6-acb8-4fcf-aa65-11dff750f265",
   "metadata": {},
   "outputs": [
    {
     "name": "stdout",
     "output_type": "stream",
     "text": [
      "Meow\n"
     ]
    }
   ],
   "source": [
    "# Q5.What is method overriding in python? Write a python code to demonstrate method overriding.\n",
    "\n",
    "'''\n",
    "Method overriding allows the child class to provide a specific/different implementation of a method that is already\n",
    "provided by one of its parent classes. \n",
    "'''\n",
    "\n",
    "class animal():\n",
    "    def make_sound(self):\n",
    "        print('Animal sound')\n",
    "        \n",
    "class cat(animal):\n",
    "    def make_sound(self):\n",
    "        print('Meow')\n",
    "        \n",
    "c=cat()\n",
    "\n",
    "c.make_sound()"
   ]
  }
 ],
 "metadata": {
  "kernelspec": {
   "display_name": "Python 3 (ipykernel)",
   "language": "python",
   "name": "python3"
  },
  "language_info": {
   "codemirror_mode": {
    "name": "ipython",
    "version": 3
   },
   "file_extension": ".py",
   "mimetype": "text/x-python",
   "name": "python",
   "nbconvert_exporter": "python",
   "pygments_lexer": "ipython3",
   "version": "3.10.8"
  }
 },
 "nbformat": 4,
 "nbformat_minor": 5
}
