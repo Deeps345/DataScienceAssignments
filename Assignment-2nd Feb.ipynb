{
 "cells": [
  {
   "cell_type": "code",
   "execution_count": 1,
   "id": "7f70eadf-e785-42d1-8208-ecaa249f1835",
   "metadata": {
    "tags": []
   },
   "outputs": [
    {
     "data": {
      "text/plain": [
       "\"A 'for' loop is used when the number of iterations is known. \\n\\nExample - Find the sum of first 10 natural numbers\\nTo calculate the sum we need to add each natural number and for that we need to iterate upon the natural numbers. \\nIn this case, we know that the loop would need to be run for 10 times for each of the natural numbers. Hence we can \\nuse a for loop to get each of that number. \\n\\nans=0\\nfor num in range(1,11):\\n    ans+=num\\nprint(ans)\\n    \\nAlthough, we can also use while loop in this case\\n\\nans=0\\nnum=1\\nwhile num<11:\\n    ans+=num\\n    num+=1\\nprint(ans) \\n    \\n\\nOn the other hand, while loop is used when the number of iterations are not known or when we need to end the loop \\non a condition other than the number of times.The while loop firstly checks for the condition, If the condition is true \\nthen the body of the while loop is executed,otherwise not.\\n\\nExample - Add numbers given by the user until the user enters -1 to terminate the process\\nIn this, case we can't use a for loop because we don't know the number of iterations i.e the count of numbers the user \\nis going to enter before terminating the process\\nOn the other hand, we can use a while loop and enter the condition that while given number is not equal to -1, add the \\nnumber to the result\\n\\nnum=int(input('Enter number : '))\\nans=0\\nwhile num!=-1:\\n    ans+=num\\n    num=int(input('Enter number : '))\\nprint(ans)\\n\""
      ]
     },
     "execution_count": 1,
     "metadata": {},
     "output_type": "execute_result"
    }
   ],
   "source": [
    "# Q1. Explain with an example each when to use a for loop and a while loop.\n",
    "\n",
    "'''A 'for' loop is used when the number of iterations is known. \n",
    "\n",
    "Example - Find the sum of first 10 natural numbers\n",
    "To calculate the sum we need to add each natural number and for that we need to iterate upon the natural numbers. \n",
    "In this case, we know that the loop would need to be run for 10 times for each of the natural numbers. Hence we can \n",
    "use a for loop to get each of that number. \n",
    "\n",
    "ans=0\n",
    "for num in range(1,11):\n",
    "    ans+=num\n",
    "print(ans)\n",
    "    \n",
    "Although, we can also use while loop in this case\n",
    "\n",
    "ans=0\n",
    "num=1\n",
    "while num<11:\n",
    "    ans+=num\n",
    "    num+=1\n",
    "print(ans) \n",
    "    \n",
    "\n",
    "On the other hand, while loop is used when the number of iterations are not known or when we need to end the loop \n",
    "on a condition other than the number of times.The while loop firstly checks for the condition, If the condition is true \n",
    "then the body of the while loop is executed,otherwise not.\n",
    "\n",
    "Example - Add numbers given by the user until the user enters -1 to terminate the process\n",
    "In this, case we can't use a for loop because we don't know the number of iterations i.e the count of numbers the user \n",
    "is going to enter before terminating the process\n",
    "On the other hand, we can use a while loop and enter the condition that while given number is not equal to -1, add the \n",
    "number to the result\n",
    "\n",
    "num=int(input('Enter number : '))\n",
    "ans=0\n",
    "while num!=-1:\n",
    "    ans+=num\n",
    "    num=int(input('Enter number : '))\n",
    "print(ans)\n",
    "'''"
   ]
  },
  {
   "cell_type": "code",
   "execution_count": null,
   "id": "c50f0c62-ffa8-47c9-8710-166efaaa33e4",
   "metadata": {},
   "outputs": [],
   "source": []
  },
  {
   "cell_type": "code",
   "execution_count": 2,
   "id": "b2cd6f2b-68e4-4ae6-baed-cffc360e4ff9",
   "metadata": {},
   "outputs": [
    {
     "name": "stdout",
     "output_type": "stream",
     "text": [
      "The sum of the first 10 natural numbers is 55\n",
      "The product of the first 10 natural numbers is 3628800\n",
      "The sum of the first 10 natural numbers is 55\n",
      "The product of the first 10 natural numbers is 3628800\n"
     ]
    }
   ],
   "source": [
    "# Q2. Write a python program to print the sum and product of the first 10 natural numbers using for\n",
    "# and while loop.\n",
    "\n",
    "total_sum,product=0,1\n",
    "\n",
    "for num in range(1,11):\n",
    "    total_sum+=num\n",
    "    product*=num\n",
    "    \n",
    "print(f'The sum of the first 10 natural numbers is {total_sum}')\n",
    "print(f'The product of the first 10 natural numbers is {product}')\n",
    "\n",
    "\n",
    "total_sum,product=0,1\n",
    "\n",
    "num=1\n",
    "while num<11:\n",
    "    total_sum+=num\n",
    "    product*=num\n",
    "    num+=1\n",
    "\n",
    "print(f'The sum of the first 10 natural numbers is {total_sum}')\n",
    "print(f'The product of the first 10 natural numbers is {product}')"
   ]
  },
  {
   "cell_type": "code",
   "execution_count": null,
   "id": "e72a7072-1b0c-4810-a7c8-c38accb0d2d7",
   "metadata": {},
   "outputs": [],
   "source": []
  },
  {
   "cell_type": "code",
   "execution_count": 3,
   "id": "e279f0e9-16e4-4417-9cf3-0a25d5e941be",
   "metadata": {},
   "outputs": [
    {
     "name": "stdin",
     "output_type": "stream",
     "text": [
      "Enter the units of electricity consumed in a month :  310\n"
     ]
    },
    {
     "name": "stdout",
     "output_type": "stream",
     "text": [
      "The total electricity bill is 2250.0\n"
     ]
    }
   ],
   "source": [
    "# Q3. Create a python program to compute the electricity bill for a household.\n",
    "# The per-unit charges in rupees are as follows: For the first 100 units, the user will be charged Rs. 4.5 per\n",
    "# unit, for the next 100 units, the user will be charged Rs. 6 per unit, and for the next 100 units, the user will\n",
    "# be charged Rs. 10 per unit, After 300 units and above the user will be charged Rs. 20 per unit.\n",
    "\n",
    "# You are required to take the units of electricity consumed in a month from the user as input.\n",
    "# Your program must pass this test case: when the unit of electricity consumed by the user in a month is\n",
    "# 310, the total electricity bill should be 2250.\n",
    "\n",
    "\n",
    "units_consumed=int(input('Enter the units of electricity consumed in a month : '))\n",
    "charges=[4.5,6,10,20]\n",
    "\n",
    "total_bill=0\n",
    "num=units_consumed/100\n",
    "\n",
    "charge_indx=0\n",
    "\n",
    "while num>=1:\n",
    "    total_bill+=100*charges[charge_indx]\n",
    "    units_consumed-=100\n",
    "    num-=1\n",
    "    if charge_indx!=(len(charges)-1):\n",
    "        charge_indx+=1\n",
    "\n",
    "total_bill+=units_consumed*charges[charge_indx]\n",
    "\n",
    "print(f'The total electricity bill is {total_bill}')"
   ]
  },
  {
   "cell_type": "code",
   "execution_count": null,
   "id": "c3b43ecb-b503-49da-a6f1-4eb0cde21304",
   "metadata": {},
   "outputs": [],
   "source": []
  },
  {
   "cell_type": "code",
   "execution_count": 4,
   "id": "a1a4278b-d9f8-404c-856e-e012fb4b2ad6",
   "metadata": {},
   "outputs": [
    {
     "name": "stdout",
     "output_type": "stream",
     "text": [
      "The required list is [2, 4, 5, 6, 8, 10, 12, 14, 15, 16, 18, 20, 22, 24, 25, 26, 28, 30, 32, 34, 35, 36, 38, 40, 42, 44, 45, 46, 48, 50, 52, 54, 55, 56, 58, 60, 62, 64, 65, 66, 68, 70, 72, 74, 75, 76, 78, 80, 82, 84, 85, 86, 88, 90, 92, 94, 95, 96, 98, 100]\n",
      "The required list is [2, 4, 5, 6, 8, 10, 12, 14, 15, 16, 18, 20, 22, 24, 25, 26, 28, 30, 32, 34, 35, 36, 38, 40, 42, 44, 45, 46, 48, 50, 52, 54, 55, 56, 58, 60, 62, 64, 65, 66, 68, 70, 72, 74, 75, 76, 78, 80, 82, 84, 85, 86, 88, 90, 92, 94, 95, 96, 98, 100]\n"
     ]
    }
   ],
   "source": [
    "# Q4. Create a list of numbers from 1 to 100. Use for loop and while loop to calculate the cube of each\n",
    "# number and if the cube of that number is divisible by 4 or 5 then append that number in a list and print\n",
    "# that list.\n",
    "\n",
    "nums=list(range(1,101))\n",
    "\n",
    "req_list1=[]\n",
    "for num in nums:\n",
    "    cube=num**3\n",
    "    if cube%4==0 or cube%5==0:\n",
    "        req_list1.append(num)\n",
    "print(f'The required list is {req_list1}')\n",
    "\n",
    "req_list2=[]\n",
    "i=0\n",
    "while i != len(nums):\n",
    "    cube=nums[i]**3\n",
    "    if cube%4==0 or cube%5==0:\n",
    "        req_list2.append(nums[i])\n",
    "    i+=1\n",
    "print(f'The required list is {req_list2}')"
   ]
  },
  {
   "cell_type": "code",
   "execution_count": null,
   "id": "91652376-54aa-45b2-ad60-9ba5693d3498",
   "metadata": {},
   "outputs": [],
   "source": []
  },
  {
   "cell_type": "code",
   "execution_count": 5,
   "id": "f95ecaec-a218-416d-b29c-ffa351d1287c",
   "metadata": {},
   "outputs": [
    {
     "name": "stdout",
     "output_type": "stream",
     "text": [
      "The number of vowels in the given string are 12\n"
     ]
    }
   ],
   "source": [
    "# Q5. Write a program to filter count vowels in the below-given string.\n",
    "# string = \"I want to become a data scientist\"\n",
    "\n",
    "s=\"I want to become a data scientist\"\n",
    "vowels={'a','e','i','o','u'}\n",
    "cnt=0\n",
    "for ch in s:\n",
    "    if ch.lower() in vowels:\n",
    "        cnt+=1\n",
    "print(f'The number of vowels in the given string are {cnt}')"
   ]
  },
  {
   "cell_type": "code",
   "execution_count": null,
   "id": "2651747b-2434-4a9a-9c67-e1b1282039ca",
   "metadata": {},
   "outputs": [],
   "source": []
  }
 ],
 "metadata": {
  "kernelspec": {
   "display_name": "Python 3 (ipykernel)",
   "language": "python",
   "name": "python3"
  },
  "language_info": {
   "codemirror_mode": {
    "name": "ipython",
    "version": 3
   },
   "file_extension": ".py",
   "mimetype": "text/x-python",
   "name": "python",
   "nbconvert_exporter": "python",
   "pygments_lexer": "ipython3",
   "version": "3.10.8"
  }
 },
 "nbformat": 4,
 "nbformat_minor": 5
}
